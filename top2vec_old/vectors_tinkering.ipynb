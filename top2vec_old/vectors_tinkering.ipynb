{
 "cells": [
  {
   "cell_type": "code",
   "execution_count": 1,
   "metadata": {},
   "outputs": [
    {
     "ename": "ModuleNotFoundError",
     "evalue": "No module named 'top2vec'",
     "output_type": "error",
     "traceback": [
      "\u001b[1;31m---------------------------------------------------------------------------\u001b[0m",
      "\u001b[1;31mModuleNotFoundError\u001b[0m                       Traceback (most recent call last)",
      "\u001b[1;32mc:\\Users\\gtzin\\Documents\\top2vec_politicalontologies\\vectors_tinkering.ipynb Cell 1\u001b[0m in \u001b[0;36m<module>\u001b[1;34m\u001b[0m\n\u001b[1;32m----> <a href='vscode-notebook-cell:/c%3A/Users/gtzin/Documents/top2vec_politicalontologies/vectors_tinkering.ipynb#ch0000000?line=0'>1</a>\u001b[0m \u001b[39mfrom\u001b[39;00m \u001b[39mtop2vec\u001b[39;00m \u001b[39mimport\u001b[39;00m Top2Vec\n\u001b[0;32m      <a href='vscode-notebook-cell:/c%3A/Users/gtzin/Documents/top2vec_politicalontologies/vectors_tinkering.ipynb#ch0000000?line=1'>2</a>\u001b[0m \u001b[39mimport\u001b[39;00m \u001b[39mnumpy\u001b[39;00m \u001b[39mas\u001b[39;00m \u001b[39mnp\u001b[39;00m\n\u001b[0;32m      <a href='vscode-notebook-cell:/c%3A/Users/gtzin/Documents/top2vec_politicalontologies/vectors_tinkering.ipynb#ch0000000?line=2'>3</a>\u001b[0m \u001b[39mimport\u001b[39;00m \u001b[39mpandas\u001b[39;00m \u001b[39mas\u001b[39;00m \u001b[39mpd\u001b[39;00m\n",
      "\u001b[1;31mModuleNotFoundError\u001b[0m: No module named 'top2vec'"
     ]
    }
   ],
   "source": [
    "from top2vec import Top2Vec\n",
    "import numpy as np\n",
    "import pandas as pd"
   ]
  },
  {
   "cell_type": "code",
   "execution_count": 49,
   "metadata": {},
   "outputs": [],
   "source": [
    "modelname = \"1640_1660_top2vectrained_learn_lemmatized\"\n",
    "model = Top2Vec.load(str(\"models/\") + modelname)"
   ]
  },
  {
   "cell_type": "code",
   "execution_count": 72,
   "metadata": {},
   "outputs": [
    {
     "data": {
      "text/plain": [
       "(array(['jurisdiction', 'power', 'authority', 'legislative', 'supreme',\n",
       "        'govern', 'usurp', 'ecclesiastical', 'government', 'usurped'],\n",
       "       dtype='<U14'),\n",
       " array([0.48616105, 0.48216096, 0.4220801 , 0.4207078 , 0.4038411 ,\n",
       "        0.39879954, 0.39739728, 0.39645737, 0.39054674, 0.38379258],\n",
       "       dtype=float32))"
      ]
     },
     "execution_count": 72,
     "metadata": {},
     "output_type": "execute_result"
    }
   ],
   "source": [
    "wordA = list([\"power\"])\n",
    "wordB = list([\"god\"])\n",
    "\n",
    "wordVectorA = model._words2word_vectors(wordA)\n",
    "wordVectorB = model._words2word_vectors(wordB)\n",
    "\n",
    "vectorAddition = wordVectorA + wordVectorB\n",
    "vectorAddition = vectorAddition.reshape(300,)\n",
    "\n",
    "vectorSubtraction = wordVectorA - wordVectorB\n",
    "vectorSubtraction = vectorSubtraction.reshape(300,)\n",
    "\n",
    "model.search_words_by_vector(vectorAddition, num_words=10)\n",
    "model.search_words_by_vector(vectorSubtraction, num_words=10)\n"
   ]
  }
 ],
 "metadata": {
  "kernelspec": {
   "display_name": "Python 3.7.4 64-bit",
   "language": "python",
   "name": "python3"
  },
  "language_info": {
   "codemirror_mode": {
    "name": "ipython",
    "version": 3
   },
   "file_extension": ".py",
   "mimetype": "text/x-python",
   "name": "python",
   "nbconvert_exporter": "python",
   "pygments_lexer": "ipython3",
   "version": "3.7.4"
  },
  "orig_nbformat": 4,
  "vscode": {
   "interpreter": {
    "hash": "06e903eccc626b85a9ae2667ca826e02a1d1a647d4e07b907a2858932953ac98"
   }
  }
 },
 "nbformat": 4,
 "nbformat_minor": 2
}
